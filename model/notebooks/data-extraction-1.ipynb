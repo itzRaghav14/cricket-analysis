{
 "cells": [
  {
   "cell_type": "code",
   "execution_count": 1,
   "metadata": {},
   "outputs": [],
   "source": [
    "import os\n",
    "import pandas as pd\n",
    "import pickle\n",
    "from tqdm import tqdm\n",
    "from yaml import safe_load"
   ]
  },
  {
   "cell_type": "code",
   "execution_count": 2,
   "metadata": {},
   "outputs": [],
   "source": [
    "# storing the filenames into a list\n",
    "filenames = []\n",
    "for file in os.listdir(\"../data/raw-data/cricsheet/t20\"):\n",
    "    filenames.append(os.path.join(\"../data/raw-data/cricsheet/t20\", file))"
   ]
  },
  {
   "cell_type": "code",
   "execution_count": 3,
   "metadata": {},
   "outputs": [
    {
     "name": "stderr",
     "output_type": "stream",
     "text": [
      "100%|██████████| 1429/1429 [03:16<00:00,  7.28it/s]\n"
     ]
    }
   ],
   "source": [
    "df = pd.DataFrame()\n",
    "match_id = 1\n",
    "\n",
    "for file in tqdm(filenames):\n",
    "    with open(file) as f:\n",
    "        try:\n",
    "            temp_df = pd.json_normalize(safe_load(f))\n",
    "            temp_df['match_id'] = match_id\n",
    "            df = pd.concat([df, temp_df], ignore_index=True)\n",
    "            match_id += 1\n",
    "        except:\n",
    "            pass"
   ]
  },
  {
   "cell_type": "code",
   "execution_count": 5,
   "metadata": {},
   "outputs": [],
   "source": [
    "pickle.dump(df, open('../data/processed-data/data-extraction-1.pkl', 'wb'))"
   ]
  }
 ],
 "metadata": {
  "kernelspec": {
   "display_name": "Python 3",
   "language": "python",
   "name": "python3"
  },
  "language_info": {
   "codemirror_mode": {
    "name": "ipython",
    "version": 3
   },
   "file_extension": ".py",
   "mimetype": "text/x-python",
   "name": "python",
   "nbconvert_exporter": "python",
   "pygments_lexer": "ipython3",
   "version": "3.10.12"
  }
 },
 "nbformat": 4,
 "nbformat_minor": 2
}
